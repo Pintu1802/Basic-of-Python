{
 "cells": [
  {
   "cell_type": "markdown",
   "id": "9367a43c",
   "metadata": {},
   "source": [
    "Q1. Explain Class and Object with respect to Object-Oriented Programming. Give a suitable example."
   ]
  },
  {
   "cell_type": "markdown",
   "id": "c34b5334",
   "metadata": {},
   "source": [
    "In object-oriented programming (OOP), a class is a blueprint or a template for creating objects. It defines a set of attributes (data) and methods (functions) that are common to all objects of that class. Objects, on the other hand, are instances of a class, which means they are specific instances created using the class blueprint.\n",
    "\n",
    "In simpler terms:\n",
    "\n",
    "A class is like a blueprint that defines the structure and behavior of objects.\n",
    "An object is a specific instance of that class, created based on the blueprint, which has its own unique data and can perform actions (methods)."
   ]
  },
  {
   "cell_type": "code",
   "execution_count": 6,
   "id": "77d9aa4f",
   "metadata": {},
   "outputs": [],
   "source": [
    "##creat a instance class\n",
    "class pwskills:\n",
    "    def __init__(self, phone_number, email_id, student_id):\n",
    "        self.phone_number = phone_number\n",
    "        self.email_id = email_id\n",
    "        self.student_id = student_id\n",
    "\n",
    "    def return_student_details(self):\n",
    "        return self.student_id, self.phone_number, self.email_id"
   ]
  },
  {
   "cell_type": "code",
   "execution_count": 12,
   "id": "2c093ab8",
   "metadata": {},
   "outputs": [],
   "source": [
    "rohan = pwskills(8936038454, \"rohan123@gmail.com\", 100223)"
   ]
  },
  {
   "cell_type": "code",
   "execution_count": 13,
   "id": "466a718b",
   "metadata": {},
   "outputs": [
    {
     "data": {
      "text/plain": [
       "(100223, 8936038454, 'rohan123@gmail.com')"
      ]
     },
     "execution_count": 13,
     "metadata": {},
     "output_type": "execute_result"
    }
   ],
   "source": [
    "rohan.return_student_details()"
   ]
  },
  {
   "cell_type": "code",
   "execution_count": 14,
   "id": "f1bbc1b0",
   "metadata": {},
   "outputs": [
    {
     "name": "stdout",
     "output_type": "stream",
     "text": [
      "Car started.\n",
      "Car started.\n",
      "Car stopped.\n",
      "Car stopped.\n"
     ]
    }
   ],
   "source": [
    "# Creating objects (instances) of the Car class\n",
    "car1 = Car(\"Toyota\", \"Camry\", 2020)\n",
    "car2 = Car(\"Honda\", \"Accord\", 2022)\n",
    "\n",
    "# Using object methods\n",
    "car1.start()\n",
    "car2.start()\n",
    "\n",
    "car1.stop()\n",
    "car2.stop()"
   ]
  },
  {
   "cell_type": "markdown",
   "id": "b994688b",
   "metadata": {},
   "source": [
    "Q2. Name the four pillars of OOPs."
   ]
  },
  {
   "cell_type": "markdown",
   "id": "71e96c96",
   "metadata": {},
   "source": [
    "The four pillars of object-oriented programming (OOP) are:\n",
    "\n",
    "1.Encapsulation: Encapsulation is the principle of bundling data (attributes) and methods (functions) that operate on that data within a single unit, i.e., a class. The internal representation and behavior of the class are hidden from the outside world, and access to the data is controlled through methods. This helps in achieving data abstraction and data hiding, promoting better code organization and maintenance.\n",
    "\n",
    "2.Abstraction: Abstraction is the process of simplifying complex real-world problems into a model that includes only relevant attributes and behavior. In OOP, abstraction allows you to create abstract classes with method declarations but no implementations, and concrete classes that implement those methods. This separation of interface from implementation allows developers to focus on what the object does rather than how it does it.\n",
    "\n",
    "3.Inheritance: Inheritance is a mechanism in which one class (called the subclass or derived class) acquires the properties and behaviors of another class (called the superclass or base class). The subclass can extend or override the functionality of the superclass, and it can also add new attributes and methods. Inheritance facilitates code reuse, making the code more manageable and promoting the concept of a hierarchical class structure.\n",
    "\n",
    "4.Polymorphism: Polymorphism allows objects of different classes to be treated as objects of a common superclass. It enables a single interface to represent different types of objects, providing flexibility and reusability in code. Polymorphism can be achieved through method overloading (same method name with different parameters) and method overriding (same method name with different implementations in the superclass and subclass)."
   ]
  },
  {
   "cell_type": "markdown",
   "id": "aead5cc1",
   "metadata": {},
   "source": [
    "Q3. Explain why the __init__() function is used. Give a suitable example."
   ]
  },
  {
   "cell_type": "markdown",
   "id": "dfe170a3",
   "metadata": {},
   "source": [
    "The __init__() function is a special method in Python that is automatically called when an object is created from a class. It stands for \"initialize\" and is used to initialize the attributes of the object. The __init__() function is often referred to as the constructor of the class because it allows you to set up the initial state of the object."
   ]
  },
  {
   "cell_type": "code",
   "execution_count": 15,
   "id": "2979c2b6",
   "metadata": {},
   "outputs": [],
   "source": [
    "class Dog:\n",
    "    def __init__(self, name, age, breed):\n",
    "        self.name = name\n",
    "        self.age = age\n",
    "        self.breed = breed\n",
    "        self.is_hungry = True\n",
    "\n",
    "    def bark(self):\n",
    "        print(f\"{self.name} says: Woof!\")\n",
    "\n",
    "    def eat(self):\n",
    "        if self.is_hungry:\n",
    "            print(f\"{self.name} is eating.\")\n",
    "            self.is_hungry = False\n",
    "        else:\n",
    "            print(f\"{self.name} is not hungry.\")"
   ]
  },
  {
   "cell_type": "code",
   "execution_count": 16,
   "id": "23d28fa7",
   "metadata": {},
   "outputs": [],
   "source": [
    "dog1 = Dog(\"Buddy\", 3, \"Labrador\")\n",
    "dog2 = Dog(\"Max\", 2, \"Golden Retriever\")\n"
   ]
  },
  {
   "cell_type": "code",
   "execution_count": 17,
   "id": "0d3b8f9a",
   "metadata": {},
   "outputs": [
    {
     "name": "stdout",
     "output_type": "stream",
     "text": [
      "Buddy is a Labrador and is 3 years old.\n",
      "Max is a Golden Retriever and is 2 years old.\n"
     ]
    }
   ],
   "source": [
    "print(f\"{dog1.name} is a {dog1.breed} and is {dog1.age} years old.\")\n",
    "print(f\"{dog2.name} is a {dog2.breed} and is {dog2.age} years old.\")\n"
   ]
  },
  {
   "cell_type": "markdown",
   "id": "ca516176",
   "metadata": {},
   "source": [
    "Q4. Why self is used in OOPs?"
   ]
  },
  {
   "cell_type": "markdown",
   "id": "ee288823",
   "metadata": {},
   "source": [
    "\n",
    "In object-oriented programming (OOP), self is a special variable that is used as the first parameter in the methods of a class. It refers to the instance of the class itself, allowing the methods to access and manipulate the attributes and behavior (methods) of that specific instance.\n",
    "\n",
    "Using self is crucial for the following reasons:\n",
    "\n",
    "Accessing Object Attributes: self allows you to access the attributes (data) of the object within the methods. For example, if you have an attribute name, you can access it using self.name inside the methods of the class.\n",
    "\n",
    "Calling Other Object Methods: Within a method, you can call other methods of the same class using self. This is helpful when methods need to interact with each other or when you want to reuse code by calling a common method.\n",
    "\n",
    "Differentiating Between Class and Local Variables: By using self as the first parameter in the methods, you explicitly indicate that the variables referenced with self are attributes of the object, not just local variables of the method.\n"
   ]
  },
  {
   "cell_type": "markdown",
   "id": "12489b5d",
   "metadata": {},
   "source": [
    "Q5. What is inheritance? Give an example for each type of inheritance."
   ]
  },
  {
   "cell_type": "markdown",
   "id": "d4173eae",
   "metadata": {},
   "source": [
    "Inheritance is a fundamental concept in object-oriented programming (OOP) that allows a class (called the subclass or derived class) to inherit properties and behaviors from another class (called the superclass or base class). The subclass can reuse the attributes and methods of the superclass and can also extend or override them to add new functionality or modify existing behavior."
   ]
  },
  {
   "cell_type": "code",
   "execution_count": 19,
   "id": "0a5d34ab",
   "metadata": {},
   "outputs": [
    {
     "name": "stdout",
     "output_type": "stream",
     "text": [
      "This is a sports car\n"
     ]
    }
   ],
   "source": [
    "# Base class\n",
    "class Vehicle:\n",
    "    def display(self):\n",
    "        print(\"This is a vehicle\")\n",
    "\n",
    "# Derived class (subclass)\n",
    "class Car(Vehicle):\n",
    "    def display(self):\n",
    "        print(\"This is a car\")\n",
    "\n",
    "# Derived class of Car, and a subclass of Vehicle\n",
    "class SportsCar(Car):\n",
    "    def display(self):\n",
    "        print(\"This is a sports car\")\n",
    "\n",
    "# Creating an object of the SportsCar class\n",
    "car = SportsCar()\n",
    "car.display()"
   ]
  },
  {
   "cell_type": "code",
   "execution_count": null,
   "id": "d8eb6ba9",
   "metadata": {},
   "outputs": [],
   "source": []
  }
 ],
 "metadata": {
  "kernelspec": {
   "display_name": "Python 3 (ipykernel)",
   "language": "python",
   "name": "python3"
  },
  "language_info": {
   "codemirror_mode": {
    "name": "ipython",
    "version": 3
   },
   "file_extension": ".py",
   "mimetype": "text/x-python",
   "name": "python",
   "nbconvert_exporter": "python",
   "pygments_lexer": "ipython3",
   "version": "3.9.12"
  }
 },
 "nbformat": 4,
 "nbformat_minor": 5
}
