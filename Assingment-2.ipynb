{
 "cells": [
  {
   "cell_type": "markdown",
   "id": "37bf4f5e",
   "metadata": {},
   "source": [
    "# Q1. Which keyword is used to create a function? Create a function to return a list of odd numbers in the range of 1 to 25\n"
   ]
  },
  {
   "cell_type": "code",
   "execution_count": 1,
   "id": "3919ab63",
   "metadata": {},
   "outputs": [
    {
     "name": "stdout",
     "output_type": "stream",
     "text": [
      "[1, 3, 5, 7, 9, 11, 13, 15, 17, 19, 21, 23, 25]\n"
     ]
    }
   ],
   "source": [
    "def get_odd_numbers():\n",
    "    odd_numbers = [num for num in range(1, 26) if num % 2 != 0]\n",
    "    return odd_numbers\n",
    "\n",
    "# Call the function and store the result in a variable\n",
    "odd_list = get_odd_numbers()\n",
    "\n",
    "# Print the list of odd numbers\n",
    "print(odd_list)"
   ]
  },
  {
   "cell_type": "markdown",
   "id": "24700834",
   "metadata": {},
   "source": [
    "# Q2. Why *args and **kwargs is used in some functions? Create a function each for *args and **kwargs to demonstrate theur use.\n"
   ]
  },
  {
   "cell_type": "code",
   "execution_count": 6,
   "id": "fb16b42b",
   "metadata": {},
   "outputs": [
    {
     "name": "stdout",
     "output_type": "stream",
     "text": [
      "10\n",
      "150\n"
     ]
    }
   ],
   "source": [
    "# Args\n",
    "def sum_all_numbers(*args):\n",
    "    total = 0\n",
    "    for num in args:\n",
    "        total += num\n",
    "    return total\n",
    "\n",
    "# Call the function with different numbers of arguments\n",
    "result = sum_all_numbers(1, 2, 3, 4)\n",
    "print(result)  # Output: 10\n",
    "\n",
    "result = sum_all_numbers(10, 20, 30, 40, 50)\n",
    "print(result)  # Output: 150"
   ]
  },
  {
   "cell_type": "code",
   "execution_count": 7,
   "id": "4feb7d5c",
   "metadata": {},
   "outputs": [
    {
     "name": "stdout",
     "output_type": "stream",
     "text": [
      "name: pintu\n",
      "age: 20\n",
      "city: gopalganj\n"
     ]
    }
   ],
   "source": [
    "# Kwargs\n",
    "def print_key_value_pairs(**kwargs):\n",
    "    for key, value in kwargs.items():\n",
    "        print(f\"{key}: {value}\")\n",
    "\n",
    "# Call the function with different keyword arguments\n",
    "print_key_value_pairs(name=\"pintu\", age=20, city=\"gopalganj\")"
   ]
  },
  {
   "cell_type": "markdown",
   "id": "d292a6e6",
   "metadata": {},
   "source": [
    "Q3.  What is an iterator in python? Name the method used to initialise the iterator object and the method \n",
    "used for iteration. Use these methods to print the first five elements of the given list [2, 4, 6, 8, 10, 12, 14, \n",
    "16, 18, 20]."
   ]
  },
  {
   "cell_type": "markdown",
   "id": "62077d09",
   "metadata": {},
   "source": [
    "Iteration :- an iterator is an object that allows you to iterate (i.e., loop) over a sequence of elements one by one. It provides two essential methods: __iter__() and __next__(). When an object defines these methods, it becomes an iterator.\n",
    "\n",
    "__iter__() method: This method is used to initialize the iterator object and returns the iterator object itself. It is called when you create an iterator for a container.\n",
    "\n",
    "__next__() method: This method is used to fetch the next element from the container. It raises the StopIteration exception when there are no more elements to be fetched.\n",
    "\n",
    "Let's create an iterator for the given list [2, 4, 6, 8, 10, 12, 14, 16, 18, 20] and use it to print the first five elements:"
   ]
  },
  {
   "cell_type": "code",
   "execution_count": 8,
   "id": "e0994939",
   "metadata": {},
   "outputs": [
    {
     "name": "stdout",
     "output_type": "stream",
     "text": [
      "2\n",
      "4\n",
      "6\n",
      "8\n",
      "10\n"
     ]
    }
   ],
   "source": [
    "class ListIterator:\n",
    "    def __init__(self, data_list):\n",
    "        self.data_list = data_list\n",
    "        self.index = 0\n",
    "\n",
    "    def __iter__(self):\n",
    "        return self\n",
    "\n",
    "    def __next__(self):\n",
    "        if self.index < len(self.data_list):\n",
    "            current_element = self.data_list[self.index]\n",
    "            self.index += 1\n",
    "            return current_element\n",
    "        else:\n",
    "            raise StopIteration\n",
    "\n",
    "\n",
    "# Create an instance of the iterator for the given list\n",
    "my_list = [2, 4, 6, 8, 10, 12, 14, 16, 18, 20]\n",
    "my_iterator = ListIterator(my_list)\n",
    "\n",
    "# Print the first five elements using the iterator\n",
    "for _ in range(5):\n",
    "    print(next(my_iterator))"
   ]
  },
  {
   "cell_type": "markdown",
   "id": "f8df0ac1",
   "metadata": {},
   "source": [
    "Q4.  What is a generator function in python? Why yield keyword is used? Give an example of a generator \n",
    "function"
   ]
  },
  {
   "cell_type": "markdown",
   "id": "d730935b",
   "metadata": {},
   "source": [
    "Generator function :- In Python, a generator function is a special type of function that uses the yield keyword instead of the return keyword to produce a sequence of values one at a time. Unlike regular functions that return a value and terminate, generator functions can be paused and resumed during iteration, which allows for more memory-efficient and lazy evaluation of elements.\n",
    "\n",
    "When a generator function is called, it returns a generator object, which is an iterator that implements both the __iter__() and __next__() methods. The generator object can be used in a for loop or with the next() function to retrieve values one by one.\n",
    "\n",
    "The yield keyword is used to produce a value in a generator function. When the yield statement is encountered, the function's state is saved, and the value is returned to the caller. The next time the function is called, it resumes execution from where it left off, allowing it to continue generating the next value.\n",
    "\n",
    "Here's an example of a generator function that generates the squares of numbers from 1 to a given limit:"
   ]
  },
  {
   "cell_type": "code",
   "execution_count": 9,
   "id": "673408a2",
   "metadata": {},
   "outputs": [
    {
     "name": "stdout",
     "output_type": "stream",
     "text": [
      "1\n",
      "4\n",
      "9\n",
      "16\n",
      "25\n"
     ]
    }
   ],
   "source": [
    "def generate_squares(limit):\n",
    "    for num in range(1, limit + 1):\n",
    "        yield num ** 2\n",
    "\n",
    "# Using the generator function in a for loop\n",
    "for square in generate_squares(5):\n",
    "    print(square)"
   ]
  },
  {
   "cell_type": "markdown",
   "id": "36385b32",
   "metadata": {},
   "source": [
    "Q5. Create a generator function for prime numbers less than 1000. Use the next() method to print the \n",
    "first 20 prime numbers"
   ]
  },
  {
   "cell_type": "code",
   "execution_count": 10,
   "id": "c3f0f6f2",
   "metadata": {},
   "outputs": [
    {
     "name": "stdout",
     "output_type": "stream",
     "text": [
      "2\n",
      "3\n",
      "5\n",
      "7\n",
      "11\n",
      "13\n",
      "17\n",
      "19\n",
      "23\n",
      "29\n",
      "31\n",
      "37\n",
      "41\n",
      "43\n",
      "47\n",
      "53\n",
      "59\n",
      "61\n",
      "67\n",
      "71\n"
     ]
    }
   ],
   "source": [
    "def is_prime(num):\n",
    "    if num < 2:\n",
    "        return False\n",
    "    for i in range(2, int(num ** 0.5) + 1):\n",
    "        if num % i == 0:\n",
    "            return False\n",
    "    return True\n",
    "\n",
    "def generate_primes():\n",
    "    num = 2\n",
    "    while num < 1000:\n",
    "        if is_prime(num):\n",
    "            yield num\n",
    "        num += 1\n",
    "\n",
    "# Using the generator function with the next() method\n",
    "prime_generator = generate_primes()\n",
    "\n",
    "for _ in range(20):\n",
    "    print(next(prime_generator))"
   ]
  },
  {
   "cell_type": "markdown",
   "id": "c38f7b04",
   "metadata": {},
   "source": [
    "Q6. Write a python program to print the first 10 Fibonacci numbers using a while loop"
   ]
  },
  {
   "cell_type": "code",
   "execution_count": 11,
   "id": "9d12d51d",
   "metadata": {},
   "outputs": [
    {
     "name": "stdout",
     "output_type": "stream",
     "text": [
      "[0, 1, 1, 2, 3, 5, 8, 13, 21, 34]\n"
     ]
    }
   ],
   "source": [
    "def fibonacci_sequence(limit):\n",
    "    fibonacci_list = [0, 1]\n",
    "    while len(fibonacci_list) < limit:\n",
    "        next_number = fibonacci_list[-1] + fibonacci_list[-2]\n",
    "        fibonacci_list.append(next_number)\n",
    "    return fibonacci_list\n",
    "\n",
    "# Call the function and print the first 10 Fibonacci numbers\n",
    "fibonacci_numbers = fibonacci_sequence(10)\n",
    "print(fibonacci_numbers)"
   ]
  },
  {
   "cell_type": "markdown",
   "id": "fa6079c7",
   "metadata": {},
   "source": [
    "Q7. Write a List Comprehension to iterate through the given string: ‘pwskills’.\n",
    "\n",
    "Expected output: ['p', 'w', 's', 'k', 'i', 'l', 'l', 's']"
   ]
  },
  {
   "cell_type": "code",
   "execution_count": 12,
   "id": "2a49b637",
   "metadata": {},
   "outputs": [
    {
     "name": "stdout",
     "output_type": "stream",
     "text": [
      "['p', 'w', 's', 'k', 'i', 'l', 'l', 's']\n"
     ]
    }
   ],
   "source": [
    "input_string = 'pwskills'\n",
    "result_list = [char for char in input_string]\n",
    "print(result_list)"
   ]
  },
  {
   "cell_type": "markdown",
   "id": "6025191a",
   "metadata": {},
   "source": [
    "Q8. Write a python program to check whether a given number is Palindrome or not using a while loop"
   ]
  },
  {
   "cell_type": "code",
   "execution_count": 14,
   "id": "4f4f0c89",
   "metadata": {},
   "outputs": [
    {
     "name": "stdout",
     "output_type": "stream",
     "text": [
      "Enter a number: 12321\n",
      "12321 is a palindrome.\n"
     ]
    }
   ],
   "source": [
    "def is_palindrome(number):\n",
    "    # Convert the number to a string\n",
    "    num_str = str(number)\n",
    "\n",
    "    # Initialize pointers for the first and last characters of the string\n",
    "    left = 0\n",
    "    right = len(num_str) - 1\n",
    "\n",
    "    # Check characters from both ends until they meet\n",
    "    while left < right:\n",
    "        if num_str[left] != num_str[right]:\n",
    "            return False\n",
    "        left += 1\n",
    "        right -= 1\n",
    "\n",
    "    return True\n",
    "\n",
    "# Test the function\n",
    "num = int(input(\"Enter a number: \"))\n",
    "if is_palindrome(num):\n",
    "    print(f\"{num} is a palindrome.\")\n",
    "else:\n",
    "    print(f\"{num} is not a palindrome.\")\n"
   ]
  },
  {
   "cell_type": "markdown",
   "id": "531b2d52",
   "metadata": {},
   "source": [
    "Q9. Write a code to print odd numbers from 1 to 100 using list comprehension"
   ]
  },
  {
   "cell_type": "code",
   "execution_count": 15,
   "id": "e2e6125f",
   "metadata": {},
   "outputs": [
    {
     "name": "stdout",
     "output_type": "stream",
     "text": [
      "[1, 3, 5, 7, 9, 11, 13, 15, 17, 19, 21, 23, 25, 27, 29, 31, 33, 35, 37, 39, 41, 43, 45, 47, 49, 51, 53, 55, 57, 59, 61, 63, 65, 67, 69, 71, 73, 75, 77, 79, 81, 83, 85, 87, 89, 91, 93, 95, 97, 99]\n"
     ]
    }
   ],
   "source": [
    "odd_numbers = [num for num in range(1, 101) if num % 2 != 0]\n",
    "print(odd_numbers)\n"
   ]
  },
  {
   "cell_type": "code",
   "execution_count": null,
   "id": "7d2017cb",
   "metadata": {},
   "outputs": [],
   "source": []
  }
 ],
 "metadata": {
  "kernelspec": {
   "display_name": "Python 3 (ipykernel)",
   "language": "python",
   "name": "python3"
  },
  "language_info": {
   "codemirror_mode": {
    "name": "ipython",
    "version": 3
   },
   "file_extension": ".py",
   "mimetype": "text/x-python",
   "name": "python",
   "nbconvert_exporter": "python",
   "pygments_lexer": "ipython3",
   "version": "3.9.12"
  }
 },
 "nbformat": 4,
 "nbformat_minor": 5
}
