{
 "cells": [
  {
   "cell_type": "markdown",
   "id": "9e0a3557",
   "metadata": {},
   "source": [
    "# Exception Hendling"
   ]
  },
  {
   "cell_type": "markdown",
   "id": "ee3957b3",
   "metadata": {},
   "source": [
    "# Q1. What is an Exception in Python? Write the difference between Exceptions and Syntex errors."
   ]
  },
  {
   "cell_type": "markdown",
   "id": "3f22da5d",
   "metadata": {},
   "source": [
    "Ans: An exception is a runtime error that occurs during the execution of a program. When the interpreter encounters an error, it raises an exception, which can be caught and handled by the programmer. Exceptions provide a way to deal with errors gracefully, preventing the program from crashing and allowing for more robust error handling.\n",
    "\n",
    "Difference between Exceptions and Syntax Errors:\n",
    "\n",
    "Nature of Errors:\n",
    "\n",
    "Exception: Occurs during the execution of a program when a specific error condition is encountered (e.g., division by zero, accessing an undefined variable).\n",
    "Syntax Error: Occurs during the parsing of the program when the interpreter detects a violation of the Python syntax rules. These errors prevent the code from being executed.\n",
    "Timing of Detection:\n",
    "\n",
    "Exception: Detected at runtime (during program execution).\n",
    "Syntax Error: Detected at the time of code compilation or interpretation.\n",
    "Handling:\n",
    "\n",
    "Exception: Can be handled using try-except blocks. The program can take specific actions to deal with the exception gracefully.\n",
    "Syntax Error: Must be fixed before the program can run. These errors usually involve mistakes in the code structure and cannot be caught using try-except blocks.\n",
    "Examples:\n",
    "\n",
    "Exception: IndexError, ValueError, FileNotFoundError, etc.\n",
    "Syntax Error: Misspelled keywords, missing colons, mismatched parentheses, etc.\n",
    "Impact on Program Execution:\n",
    "\n",
    "Exception: Allows the program to continue running if proper error handling is implemented.\n",
    "Syntax Error: Prevents the program from running until the syntax errors are corrected."
   ]
  },
  {
   "cell_type": "markdown",
   "id": "d8800c02",
   "metadata": {},
   "source": [
    "# Q2.What happend when an exception is not hendale? Explain with example."
   ]
  },
  {
   "cell_type": "markdown",
   "id": "f89b51ab",
   "metadata": {},
   "source": [
    "Ans: When an exception is not handled, it propagates up the call stack until it reaches the top-level of the program. If no appropriate handler is found, the program will terminate, and an error message indicating the unhandled exception will be displayed.\n",
    "\n",
    "Here's an example to illustrate this:\n"
   ]
  },
  {
   "cell_type": "code",
   "execution_count": 2,
   "id": "4f667e4d",
   "metadata": {},
   "outputs": [],
   "source": [
    "def divide_numbers(a, b):\n",
    "    result = a / b\n",
    "    return result\n",
    "\n",
    "# This function calls divide_numbers without handling the possible ZeroDivisionError.\n",
    "def main():\n",
    "    try:\n",
    "        result = divide_numbers(10, 0)\n",
    "        print(\"Result:\", result)\n",
    "    except ValueError as ve:\n",
    "        print(\"ValueError:\", ve)\n",
    "\n"
   ]
  },
  {
   "cell_type": "markdown",
   "id": "89d1f652",
   "metadata": {},
   "source": [
    "# Q3. Which Python statement are used to catch and handle exception? Explain with example."
   ]
  },
  {
   "cell_type": "markdown",
   "id": "58f61446",
   "metadata": {},
   "source": [
    "Ans: In Python, the try and except statements are used to catch and handle exceptions. Here's a breakdown of how they work, along with an example:\n",
    "\n",
    "Try-Except Statements:\n",
    "\n",
    "The try block contains the code that might raise an exception. The except block contains the code to handle the exception if it occurs."
   ]
  },
  {
   "cell_type": "code",
   "execution_count": 3,
   "id": "b73ac9f7",
   "metadata": {},
   "outputs": [
    {
     "name": "stdout",
     "output_type": "stream",
     "text": [
      "Result: 5.0\n",
      "Error: division by zero\n",
      "Cannot divide by zero!\n"
     ]
    }
   ],
   "source": [
    "def divide_numbers(a, b):\n",
    "    try:\n",
    "        result = a / b\n",
    "        print(\"Result:\", result)\n",
    "    except ZeroDivisionError as e:\n",
    "        print(\"Error:\", e)\n",
    "        print(\"Cannot divide by zero!\")\n",
    "\n",
    "# Example usage\n",
    "divide_numbers(10, 2)  # This will execute without errors\n",
    "divide_numbers(10, 0)  # This will raise a ZeroDivisionError\n"
   ]
  },
  {
   "cell_type": "markdown",
   "id": "40fe0e57",
   "metadata": {},
   "source": [
    "# Q4. Explain with an example:\n",
    "    a. try and else\n",
    "    b. finally\n",
    "    c. raise"
   ]
  },
  {
   "cell_type": "markdown",
   "id": "77a2464d",
   "metadata": {},
   "source": [
    "a. try and else:\n",
    "In Python, you can use else in a try block to specify a block of code to be executed if no exceptions are raised. Here's an example:"
   ]
  },
  {
   "cell_type": "code",
   "execution_count": 4,
   "id": "c26fb7a2",
   "metadata": {},
   "outputs": [
    {
     "name": "stdout",
     "output_type": "stream",
     "text": [
      "Result: 5.0\n",
      "Error: division by zero\n",
      "Cannot divide by zero!\n"
     ]
    }
   ],
   "source": [
    "def divide_numbers(a, b):\n",
    "    try:\n",
    "        result = a / b\n",
    "    except ZeroDivisionError as e:\n",
    "        print(\"Error:\", e)\n",
    "        print(\"Cannot divide by zero!\")\n",
    "    else:\n",
    "        print(\"Result:\", result)\n",
    "\n",
    "# Example usage\n",
    "divide_numbers(10, 2)  # This will print the result\n",
    "divide_numbers(10, 0)  # This will print the error message\n"
   ]
  },
  {
   "cell_type": "markdown",
   "id": "14129ad2",
   "metadata": {},
   "source": [
    "b. finally:\n",
    "The finally block is used to specify a block of code that will be executed no matter what, whether an exception is raised or not. Here's an example:"
   ]
  },
  {
   "cell_type": "code",
   "execution_count": 5,
   "id": "9821d8f2",
   "metadata": {},
   "outputs": [
    {
     "name": "stdout",
     "output_type": "stream",
     "text": [
      "Result: 5.0\n",
      "This code always executes, regardless of exceptions.\n",
      "Error: division by zero\n",
      "Cannot divide by zero!\n",
      "This code always executes, regardless of exceptions.\n"
     ]
    }
   ],
   "source": [
    "def divide_numbers(a, b):\n",
    "    try:\n",
    "        result = a / b\n",
    "        print(\"Result:\", result)\n",
    "    except ZeroDivisionError as e:\n",
    "        print(\"Error:\", e)\n",
    "        print(\"Cannot divide by zero!\")\n",
    "    finally:\n",
    "        print(\"This code always executes, regardless of exceptions.\")\n",
    "\n",
    "# Example usage\n",
    "divide_numbers(10, 2)  # This will print the result and the finally block\n",
    "divide_numbers(10, 0)  # This will print the error message and the finally block\n"
   ]
  },
  {
   "cell_type": "markdown",
   "id": "ebe6062d",
   "metadata": {},
   "source": [
    "c. raise:\n",
    "The raise statement is used to raise an exception manually. Here's an example:"
   ]
  },
  {
   "cell_type": "code",
   "execution_count": 6,
   "id": "420e56f8",
   "metadata": {},
   "outputs": [
    {
     "name": "stdout",
     "output_type": "stream",
     "text": [
      "Error: Number must be positive\n"
     ]
    }
   ],
   "source": [
    "def check_positive_number(x):\n",
    "    try:\n",
    "        if x <= 0:\n",
    "            raise ValueError(\"Number must be positive\")\n",
    "    except ValueError as e:\n",
    "        print(\"Error:\", e)\n",
    "\n",
    "# Example usage\n",
    "check_positive_number(5)   # This will not raise an exception\n",
    "check_positive_number(-2)  # This will raise a ValueError\n"
   ]
  },
  {
   "cell_type": "markdown",
   "id": "f65c9104",
   "metadata": {},
   "source": [
    "# Q5. What are Custom Exceptions in Python? Why do we need Custom Exception? Explain with an example."
   ]
  },
  {
   "cell_type": "markdown",
   "id": "358c92a8",
   "metadata": {},
   "source": [
    "Ans: Python, you can create custom exceptions by defining a new class. Custom exceptions are useful when you need to handle specific error conditions in your code that are not adequately addressed by the built-in exception classes. This allows you to provide more meaningful error messages and make your code more expressive.\n",
    "\n",
    "Here's why you might need custom exceptions:\n",
    "\n",
    "Specificity: Custom exceptions let you create more specific and meaningful error types for your application, making it easier to understand the nature of the error when it occurs.\n",
    "\n",
    "Modularity: You can design your application with a modular structure, where each module raises and catches its own custom exceptions. This promotes cleaner code organization and separation of concerns.\n",
    "\n",
    "Readability: Custom exceptions improve the readability of your code. When you encounter a custom exception in a try block, it's clear what kind of error is being handled, enhancing code understanding.\n",
    "\n",
    "Here's an example to illustrate the concept of custom exceptions:\n",
    "\n"
   ]
  },
  {
   "cell_type": "code",
   "execution_count": 7,
   "id": "184dc645",
   "metadata": {},
   "outputs": [
    {
     "name": "stdout",
     "output_type": "stream",
     "text": [
      "Processing positive number: 10\n",
      "Error: Negative numbers are not allowed: -5\n"
     ]
    }
   ],
   "source": [
    "# Define a custom exception class\n",
    "class NegativeNumberError(Exception):\n",
    "    def __init__(self, value):\n",
    "        self.value = value\n",
    "        super().__init__(f\"Negative numbers are not allowed: {value}\")\n",
    "\n",
    "# Function that checks if a number is positive\n",
    "def process_positive_number(x):\n",
    "    try:\n",
    "        if x < 0:\n",
    "            raise NegativeNumberError(x)\n",
    "        else:\n",
    "            print(\"Processing positive number:\", x)\n",
    "    except NegativeNumberError as e:\n",
    "        print(\"Error:\", e)\n",
    "\n",
    "# Example usage\n",
    "process_positive_number(10)   # This will print \"Processing positive number: 10\"\n",
    "process_positive_number(-5)   # This will print the custom error message\n"
   ]
  },
  {
   "cell_type": "markdown",
   "id": "74b8bf1b",
   "metadata": {},
   "source": [
    "# Q6. Create a custom Exception class. Use this class to hendle an exception."
   ]
  },
  {
   "cell_type": "code",
   "execution_count": 9,
   "id": "2342155c",
   "metadata": {},
   "outputs": [
    {
     "name": "stdout",
     "output_type": "stream",
     "text": [
      "Processing data: 42\n",
      "Caught an exception:\n"
     ]
    }
   ],
   "source": [
    " # Define a custom exception class\n",
    "class CustomError(Exception):\n",
    "    def __init__(self, message=\"A custom error occurred\"):\n",
    "        self.message = message\n",
    "        super().__init__(self.message)\n",
    "\n",
    "# Function that may raise the custom exception\n",
    "def process_data(data):\n",
    "    if not isinstance(data, int):\n",
    "        raise CustomError(\"Input must be an integer\")\n",
    "\n",
    "    # Some processing logic (in this case, we'll just print the data)\n",
    "    print(\"Processing data:\", data)\n",
    "\n",
    "# Example usage\n",
    "try:\n",
    "    process_data(42)  # This will execute without errors\n",
    "    process_data(\"abc\")  # This will raise a CustomError\n",
    "except CustomError as ce:\n",
    "    print(\"Caught an exception:\") "
   ]
  },
  {
   "cell_type": "markdown",
   "id": "2d6f4221",
   "metadata": {},
   "source": [
    "We define a custom exception class CustomError that inherits from the built-in Exception class. The __init__ method allows us to provide a custom error message, and we call the superclass constructor using super().__init__(self.message).\n",
    "\n",
    "The process_data function checks if the input data is an integer. If it's not, it raises a CustomError with a specific error message."
   ]
  },
  {
   "cell_type": "code",
   "execution_count": null,
   "id": "fb9ceaac",
   "metadata": {},
   "outputs": [],
   "source": []
  }
 ],
 "metadata": {
  "kernelspec": {
   "display_name": "Python 3 (ipykernel)",
   "language": "python",
   "name": "python3"
  },
  "language_info": {
   "codemirror_mode": {
    "name": "ipython",
    "version": 3
   },
   "file_extension": ".py",
   "mimetype": "text/x-python",
   "name": "python",
   "nbconvert_exporter": "python",
   "pygments_lexer": "ipython3",
   "version": "3.9.12"
  }
 },
 "nbformat": 4,
 "nbformat_minor": 5
}
