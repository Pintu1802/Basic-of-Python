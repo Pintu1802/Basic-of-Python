{
 "cells": [
  {
   "cell_type": "markdown",
   "id": "74793b7c",
   "metadata": {},
   "source": [
    "# Q1. Explain with an example each when to use a for loop and a while loop."
   ]
  },
  {
   "cell_type": "markdown",
   "id": "6eb28379",
   "metadata": {},
   "source": [
    "For loop:- A for loop is used when you know in advance how many times you want to repeat a block of code. It is ideal for iterating over a sequence of elements, such as lists, arrays, strings, or a range of numbers."
   ]
  },
  {
   "cell_type": "markdown",
   "id": "2d4453ee",
   "metadata": {},
   "source": [
    "for example - \n",
    "for i in range(1,5):\n",
    "    print(i)"
   ]
  },
  {
   "cell_type": "markdown",
   "id": "6bff7c42",
   "metadata": {},
   "source": [
    "While loop - A while loop is used when you want to repeat a block of code as long as a specific condition is true. The loop continues until the condition becomes false. You should be careful to ensure the condition will eventually become false; otherwise, the loop could run indefinitely, resulting in an infinite loop."
   ]
  },
  {
   "cell_type": "markdown",
   "id": "ac3989e4",
   "metadata": {},
   "source": [
    "foe example - \n",
    "countdown = 5\n",
    "while countdown > 0:\n",
    "    print(countdown)\n",
    "    countdown -= 1"
   ]
  },
  {
   "cell_type": "markdown",
   "id": "b04c55b5",
   "metadata": {},
   "source": [
    "# Q2.  Write a python program to print the sum and product of the first 10 natural numbers using for and while loop\n"
   ]
  },
  {
   "cell_type": "markdown",
   "id": "ccaaaa82",
   "metadata": {},
   "source": [
    "Using for loop to calculate the sum and product of the first 10 natural numbers"
   ]
  },
  {
   "cell_type": "code",
   "execution_count": 4,
   "id": "70a4023d",
   "metadata": {},
   "outputs": [
    {
     "name": "stdout",
     "output_type": "stream",
     "text": [
      "Sum of the first 10 natural numbers: 55\n",
      "Product of the first 10 natural numbers: 3628800\n"
     ]
    }
   ],
   "source": [
    "# Using for looop\n",
    "sum_result = 0\n",
    "product_result = 1\n",
    "\n",
    "for num in range(1, 11):\n",
    "    sum_result += num\n",
    "    product_result *= num\n",
    "\n",
    "print(\"Sum of the first 10 natural numbers:\", sum_result)\n",
    "print(\"Product of the first 10 natural numbers:\", product_result)"
   ]
  },
  {
   "cell_type": "code",
   "execution_count": 5,
   "id": "30616efa",
   "metadata": {},
   "outputs": [
    {
     "name": "stdout",
     "output_type": "stream",
     "text": [
      "Sum of the first 10 natural numbers: 55\n",
      "Product of the first 10 natural numbers: 3628800\n"
     ]
    }
   ],
   "source": [
    "# Using while loop\n",
    "num = 1\n",
    "sum_result = 0\n",
    "product_result = 1\n",
    "\n",
    "while num <= 10:\n",
    "    sum_result += num\n",
    "    product_result *= num\n",
    "    num += 1\n",
    "\n",
    "print(\"Sum of the first 10 natural numbers:\", sum_result)\n",
    "print(\"Product of the first 10 natural numbers:\", product_result)"
   ]
  },
  {
   "cell_type": "markdown",
   "id": "82500e27",
   "metadata": {},
   "source": [
    "Q3. Create a python program to compute the electricity bill for a household.\n",
    "The per-unit charges in rupees are as follows: For the first 100 units, the user will be charged Rs. 4.5 per \n",
    "unit, for the next 100 units, the user will be charged Rs. 6 per unit, and for the next 100 units, the user will \n",
    "be charged Rs. 10 per unit, After 300 units and above the user will be charged Rs. 20 per unit.\n",
    "\n",
    "You are required to take the units of electricity consumed in a month from the user as input.\n",
    "\n",
    "Your program must pass this test case: when the unit of electricity consumed by the user in a month is \n",
    "310, the total electricity bill should be 2250."
   ]
  },
  {
   "cell_type": "code",
   "execution_count": 6,
   "id": "2b24e577",
   "metadata": {},
   "outputs": [
    {
     "name": "stdout",
     "output_type": "stream",
     "text": [
      "Enter the units of electricity consumed in a month: 300\n",
      "Electricity bill for the month: Rs. 2050.0\n"
     ]
    }
   ],
   "source": [
    "def calculate_electricity_bill(units):\n",
    "    total_bill = 0\n",
    "    \n",
    "    # Calculate charges for the first 100 units\n",
    "    if units <= 100:\n",
    "        total_bill = units * 4.5\n",
    "    else:\n",
    "        total_bill = 100 * 4.5\n",
    "        units -= 100\n",
    "\n",
    "        # Calculate charges for the next 100 units\n",
    "        if units <= 100:\n",
    "            total_bill += units * 6\n",
    "        else:\n",
    "            total_bill += 100 * 6\n",
    "            units -= 100\n",
    "\n",
    "            # Calculate charges for the next 100 units\n",
    "            if units <= 100:\n",
    "                total_bill += units * 10\n",
    "            else:\n",
    "                total_bill += 100 * 10\n",
    "                units -= 100\n",
    "\n",
    "                # Calculate charges for units above 300\n",
    "                total_bill += units * 20\n",
    "\n",
    "    return total_bill\n",
    "\n",
    "# Get units consumed from the user\n",
    "units_consumed = int(input(\"Enter the units of electricity consumed in a month: \"))\n",
    "\n",
    "# Calculate and print the electricity bill\n",
    "electricity_bill = calculate_electricity_bill(units_consumed)\n",
    "print(\"Electricity bill for the month: Rs.\", electricity_bill)"
   ]
  },
  {
   "cell_type": "markdown",
   "id": "015d6f29",
   "metadata": {},
   "source": [
    " Q4. Create a list of numbers from 1 to 100. Use for loop and while loop to calculate the cube of each \n",
    "number and if the cube of that number is divisible by 4 or 5 then append that number in a list and print \n",
    "that list"
   ]
  },
  {
   "cell_type": "code",
   "execution_count": 7,
   "id": "d0c32dd3",
   "metadata": {},
   "outputs": [
    {
     "name": "stdout",
     "output_type": "stream",
     "text": [
      "Numbers whose cubes are divisible by 4 or 5 (using for loop): [2, 4, 5, 6, 8, 10, 12, 14, 15, 16, 18, 20, 22, 24, 25, 26, 28, 30, 32, 34, 35, 36, 38, 40, 42, 44, 45, 46, 48, 50, 52, 54, 55, 56, 58, 60, 62, 64, 65, 66, 68, 70, 72, 74, 75, 76, 78, 80, 82, 84, 85, 86, 88, 90, 92, 94, 95, 96, 98, 100]\n"
     ]
    }
   ],
   "source": [
    "# Using for loop to calculate the cubes and append the numbers to a list\n",
    "numbers_list = list(range(1, 101))\n",
    "cubes_divisible_by_4_or_5 = []\n",
    "\n",
    "for num in numbers_list:\n",
    "    cube = num ** 3\n",
    "    if cube % 4 == 0 or cube % 5 == 0:\n",
    "        cubes_divisible_by_4_or_5.append(num)\n",
    "\n",
    "print(\"Numbers whose cubes are divisible by 4 or 5 (using for loop):\", cubes_divisible_by_4_or_5)"
   ]
  },
  {
   "cell_type": "code",
   "execution_count": 8,
   "id": "8010a830",
   "metadata": {},
   "outputs": [
    {
     "name": "stdout",
     "output_type": "stream",
     "text": [
      "Numbers whose cubes are divisible by 4 or 5 (using while loop): [2, 4, 5, 6, 8, 10, 12, 14, 15, 16, 18, 20, 22, 24, 25, 26, 28, 30, 32, 34, 35, 36, 38, 40, 42, 44, 45, 46, 48, 50, 52, 54, 55, 56, 58, 60, 62, 64, 65, 66, 68, 70, 72, 74, 75, 76, 78, 80, 82, 84, 85, 86, 88, 90, 92, 94, 95, 96, 98, 100]\n"
     ]
    }
   ],
   "source": [
    "# Using while loop to calculate the cubes and append the numbers to a list\n",
    "numbers_list = list(range(1, 101))\n",
    "cubes_divisible_by_4_or_5 = []\n",
    "\n",
    "i = 0\n",
    "while i < len(numbers_list):\n",
    "    cube = numbers_list[i] ** 3\n",
    "    if cube % 4 == 0 or cube % 5 == 0:\n",
    "        cubes_divisible_by_4_or_5.append(numbers_list[i])\n",
    "    i += 1\n",
    "\n",
    "print(\"Numbers whose cubes are divisible by 4 or 5 (using while loop):\", cubes_divisible_by_4_or_5)"
   ]
  },
  {
   "cell_type": "markdown",
   "id": "9cac7db8",
   "metadata": {},
   "source": [
    "Q5.  Write a program to filter count vowels in the below-given string.\n",
    "\n",
    "string = \"I want to become a data scientist"
   ]
  },
  {
   "cell_type": "code",
   "execution_count": 10,
   "id": "f9ced34d",
   "metadata": {},
   "outputs": [
    {
     "name": "stdout",
     "output_type": "stream",
     "text": [
      "Number of vowels in the string: 12\n"
     ]
    }
   ],
   "source": [
    "def count_vowels(input_string):\n",
    "    vowels = \"aeiouAEIOU\"\n",
    "    vowel_count = 0\n",
    "\n",
    "    for char in input_string:\n",
    "        if char in vowels:\n",
    "            vowel_count += 1\n",
    "\n",
    "    return vowel_count\n",
    "\n",
    "# Input string\n",
    "input_string = \"I want to become a data scientist\"\n",
    "\n",
    "# Calculate the vowel count\n",
    "vowel_count = count_vowels(input_string)\n",
    "\n",
    "print(\"Number of vowels in the string:\", vowel_count)"
   ]
  },
  {
   "cell_type": "code",
   "execution_count": null,
   "id": "49003274",
   "metadata": {},
   "outputs": [],
   "source": []
  }
 ],
 "metadata": {
  "kernelspec": {
   "display_name": "Python 3 (ipykernel)",
   "language": "python",
   "name": "python3"
  },
  "language_info": {
   "codemirror_mode": {
    "name": "ipython",
    "version": 3
   },
   "file_extension": ".py",
   "mimetype": "text/x-python",
   "name": "python",
   "nbconvert_exporter": "python",
   "pygments_lexer": "ipython3",
   "version": "3.9.12"
  }
 },
 "nbformat": 4,
 "nbformat_minor": 5
}
