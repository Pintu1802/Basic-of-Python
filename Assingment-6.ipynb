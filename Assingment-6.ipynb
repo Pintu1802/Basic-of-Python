{
 "cells": [
  {
   "cell_type": "markdown",
   "id": "e57a35b0",
   "metadata": {},
   "source": [
    "# Q1.write a pand display the grade according to the following criteriarogram to accept percentage froom the user"
   ]
  },
  {
   "cell_type": "code",
   "execution_count": 1,
   "id": "5f0ce531",
   "metadata": {},
   "outputs": [
    {
     "name": "stdout",
     "output_type": "stream",
     "text": [
      "Enter your percentage: 80\n",
      "Your grade is: B\n"
     ]
    }
   ],
   "source": [
    "def calculate_grade(percentage):\n",
    "    if percentage >= 90:\n",
    "        return 'A'\n",
    "    elif percentage >= 80:\n",
    "        return 'B'\n",
    "    elif percentage >= 70:\n",
    "        return 'C'\n",
    "    elif percentage >= 60:\n",
    "        return 'D'\n",
    "    else:\n",
    "        return 'F'\n",
    "\n",
    "def main():\n",
    "    try:\n",
    "        percentage = float(input(\"Enter your percentage: \"))\n",
    "        if percentage < 0 or percentage > 100:\n",
    "            print(\"Percentage should be between 0 and 100.\")\n",
    "        else:\n",
    "            grade = calculate_grade(percentage)\n",
    "            print(f\"Your grade is: {grade}\")\n",
    "    except ValueError:\n",
    "        print(\"Invalid input. Please enter a valid percentage.\")\n",
    "\n",
    "if __name__ == \"__main__\":\n",
    "    main()\n"
   ]
  },
  {
   "cell_type": "markdown",
   "id": "3e8cf12c",
   "metadata": {},
   "source": [
    "# Q2.Write a program to accept the cost price of a bike and display the road tax to be paid according to the following criteria\n",
    "\n"
   ]
  },
  {
   "cell_type": "code",
   "execution_count": 2,
   "id": "8e4ae4f4",
   "metadata": {},
   "outputs": [
    {
     "name": "stdout",
     "output_type": "stream",
     "text": [
      "Enter the cost price of the bike: 500\n",
      "The road tax to be paid is: $25.00\n"
     ]
    }
   ],
   "source": [
    "def calculate_road_tax(cost_price):\n",
    "    if cost_price < 50000:\n",
    "        return 0.05 * cost_price\n",
    "    elif cost_price < 100000:\n",
    "        return 0.1 * cost_price\n",
    "    else:\n",
    "        return 0.15 * cost_price\n",
    "\n",
    "def main():\n",
    "    try:\n",
    "        cost_price = float(input(\"Enter the cost price of the bike: \"))\n",
    "        if cost_price < 0:\n",
    "            print(\"Cost price should be a positive value.\")\n",
    "        else:\n",
    "            road_tax = calculate_road_tax(cost_price)\n",
    "            print(f\"The road tax to be paid is: ${road_tax:.2f}\")\n",
    "    except ValueError:\n",
    "        print(\"Invalid input. Please enter a valid cost price.\")\n",
    "\n",
    "if __name__ == \"__main__\":\n",
    "    main()\n"
   ]
  },
  {
   "cell_type": "markdown",
   "id": "b81ecf91",
   "metadata": {},
   "source": [
    "# Q3.Accept any city from the user and display monuments of that city"
   ]
  },
  {
   "cell_type": "code",
   "execution_count": 3,
   "id": "70ee24dd",
   "metadata": {},
   "outputs": [
    {
     "name": "stdout",
     "output_type": "stream",
     "text": [
      "Enter the name of a city: jaipur\n",
      "The famous monument in jaipur is: Jal Mahal\n"
     ]
    }
   ],
   "source": [
    "def display_monument(city):\n",
    "    monuments = {\n",
    "        \"delhi\": \"Red Fort\",\n",
    "        \"agra\": \"Taj Mahal\",\n",
    "        \"jaipur\": \"Jal Mahal\"\n",
    "    }\n",
    "    \n",
    "    city_lower = city.lower()\n",
    "    if city_lower in monuments:\n",
    "        monument = monuments[city_lower]\n",
    "        print(f\"The famous monument in {city} is: {monument}\")\n",
    "    else:\n",
    "        print(\"Monument information not available for this city.\")\n",
    "\n",
    "def main():\n",
    "    city = input(\"Enter the name of a city: \")\n",
    "    display_monument(city)\n",
    "\n",
    "if __name__ == \"__main__\":\n",
    "    main()\n"
   ]
  },
  {
   "cell_type": "markdown",
   "id": "592fbdef",
   "metadata": {},
   "source": [
    "# Q4.Cheak how many times a given number  can be divided by 3 before it is less than or equal to 10\n",
    "\n"
   ]
  },
  {
   "cell_type": "code",
   "execution_count": 2,
   "id": "1fc344ec",
   "metadata": {},
   "outputs": [
    {
     "name": "stdout",
     "output_type": "stream",
     "text": [
      "Enter a number: 20\n",
      "The number can be divided by 3 1 times before it is less than or equal to 10.\n",
      "The number can be divided by 3 1 times before it is less than or equal to 10.\n"
     ]
    }
   ],
   "source": [
    "def count_divisions(number):\n",
    "    count = 0\n",
    "    while number > 10:\n",
    "        number /= 3\n",
    "        count += 1\n",
    "    return count\n",
    "\n",
    "def main():\n",
    "    try:\n",
    "        number = float(input(\"Enter a number: \"))\n",
    "        divisions = count_divisions(number)\n",
    "        print(f\"The number can be divided by 3 {divisions} times before it is less than or equal to 10.\")\n",
    "    except ValueError:\n",
    "        print(\"Invalid input. Please enter a valid number.\")\n",
    "\n",
    "if __name__ == \"__main__\":\n",
    "    main()\n"
   ]
  },
  {
   "cell_type": "markdown",
   "id": "72715461",
   "metadata": {},
   "source": [
    "# Q5.Why and when to use while Loop in python give a detailed description with example\n",
    "\n"
   ]
  },
  {
   "cell_type": "markdown",
   "id": "0c2eee4a",
   "metadata": {},
   "source": [
    "Ans:- A while loop in Python is used to repeatedly execute a block of code as long as a certain condition remains true. It provides a way to create a loop where the number of iterations is not known in advance, unlike a for loop where the range or sequence is predetermined"
   ]
  },
  {
   "cell_type": "markdown",
   "id": "5be2133f",
   "metadata": {},
   "source": [
    "# Q6.Use nested while loop to print 3 different patten\n",
    "\n"
   ]
  },
  {
   "cell_type": "code",
   "execution_count": 3,
   "id": "fa2af794",
   "metadata": {},
   "outputs": [
    {
     "name": "stdout",
     "output_type": "stream",
     "text": [
      "*\n",
      "**\n",
      "***\n",
      "****\n",
      "*****\n",
      "*\n",
      "**\n",
      "***\n",
      "****\n",
      "*****\n"
     ]
    }
   ],
   "source": [
    "# Right-Angle triangle Pattern\n",
    "rows = 5\n",
    "i = 1\n",
    "while i <= rows:\n",
    "    j = 1\n",
    "    while j <= i:\n",
    "        print(\"*\", end=\"\")\n",
    "        j += 1\n",
    "    print()\n",
    "    i += 1\n"
   ]
  },
  {
   "cell_type": "code",
   "execution_count": 4,
   "id": "9cd2a6bc",
   "metadata": {},
   "outputs": [
    {
     "name": "stdout",
     "output_type": "stream",
     "text": [
      "*****\n",
      "****\n",
      "***\n",
      "**\n",
      "*\n",
      "*****\n",
      "****\n",
      "***\n",
      "**\n",
      "*\n"
     ]
    }
   ],
   "source": [
    "## inverted Right -Angle Tringle pattern\n",
    "rows = 5\n",
    "i = rows\n",
    "while i >= 1:\n",
    "    j = 1\n",
    "    while j <= i:\n",
    "        print(\"*\", end=\"\")\n",
    "        j += 1\n",
    "    print()\n",
    "    i -= 1\n"
   ]
  },
  {
   "cell_type": "code",
   "execution_count": 5,
   "id": "dd847331",
   "metadata": {},
   "outputs": [
    {
     "name": "stdout",
     "output_type": "stream",
     "text": [
      "    *\n",
      "   ***\n",
      "  *****\n",
      " *******\n",
      "*********\n",
      "    *\n",
      "   ***\n",
      "  *****\n",
      " *******\n",
      "*********\n"
     ]
    }
   ],
   "source": [
    "## Pyramid Pattern:\n",
    "rows = 5\n",
    "i = 1\n",
    "while i <= rows:\n",
    "    space = rows - i\n",
    "    while space > 0:\n",
    "        print(\" \", end=\"\")\n",
    "        space -= 1\n",
    "    \n",
    "    j = 1\n",
    "    while j <= i * 2 - 1:\n",
    "        print(\"*\", end=\"\")\n",
    "        j += 1\n",
    "    print()\n",
    "    i += 1\n"
   ]
  },
  {
   "cell_type": "markdown",
   "id": "916db7cb",
   "metadata": {},
   "source": [
    "# Q7.Reverce a while loop to display number from 10 to 1\n"
   ]
  },
  {
   "cell_type": "code",
   "execution_count": 6,
   "id": "244d9f94",
   "metadata": {},
   "outputs": [
    {
     "name": "stdout",
     "output_type": "stream",
     "text": [
      "10\n",
      "9\n",
      "8\n",
      "7\n",
      "6\n",
      "5\n",
      "4\n",
      "3\n",
      "2\n",
      "1\n",
      "10\n",
      "9\n",
      "8\n",
      "7\n",
      "6\n",
      "5\n",
      "4\n",
      "3\n",
      "2\n",
      "1\n"
     ]
    }
   ],
   "source": [
    "number = 10\n",
    "while number >= 1:\n",
    "    print(number)\n",
    "    number -= 1\n"
   ]
  },
  {
   "cell_type": "code",
   "execution_count": null,
   "id": "935386d7",
   "metadata": {},
   "outputs": [],
   "source": []
  }
 ],
 "metadata": {
  "kernelspec": {
   "display_name": "Python 3 (ipykernel)",
   "language": "python",
   "name": "python3"
  },
  "language_info": {
   "codemirror_mode": {
    "name": "ipython",
    "version": 3
   },
   "file_extension": ".py",
   "mimetype": "text/x-python",
   "name": "python",
   "nbconvert_exporter": "python",
   "pygments_lexer": "ipython3",
   "version": "3.9.12"
  }
 },
 "nbformat": 4,
 "nbformat_minor": 5
}
