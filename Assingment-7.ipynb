{
 "cells": [
  {
   "cell_type": "markdown",
   "id": "40ce1807",
   "metadata": {},
   "source": [
    "Q1. You are writing code for a company. The requirement of the company is that you create a python\n",
    "function that will check whether the password entered by the user is correct or not. The function should\n",
    "take the password as input and return the string “Valid Password” if the entered password follows the\n",
    "below-given password guidelines else it should return “Invalid Password”.\n",
    "Note: 1. The Password should contain at least two uppercase letters and at least two lowercase letters.\n",
    "2. The Password should contain at least a number and three special characters.\n",
    "3. The length of the password should be 10 characters long."
   ]
  },
  {
   "cell_type": "code",
   "execution_count": 2,
   "id": "28e31694",
   "metadata": {},
   "outputs": [
    {
     "name": "stdout",
     "output_type": "stream",
     "text": [
      "Enter your password: PINTU\n",
      "Invalid Password\n"
     ]
    }
   ],
   "source": [
    "#1.\n",
    "def check_password(password):\n",
    "    # Count the number of uppercase and lowercase letters\n",
    "    uppercase_count = sum(1 for char in password if char.isupper())\n",
    "    lowercase_count = sum(1 for char in password if char.islower())\n",
    "    \n",
    "    # Check if the counts meet the requirements\n",
    "    if uppercase_count >= 2 and lowercase_count >= 2:\n",
    "        return \"Valid Password\"\n",
    "    else:\n",
    "        return \"Invalid Password\"\n",
    "\n",
    "# Example usage\n",
    "user_password = input(\"Enter your password: \")\n",
    "result = check_password(user_password)\n",
    "print(result)\n"
   ]
  },
  {
   "cell_type": "code",
   "execution_count": 4,
   "id": "d377a380",
   "metadata": {},
   "outputs": [
    {
     "name": "stdout",
     "output_type": "stream",
     "text": [
      "Enter your password: 3575\n",
      "Invalid Password\n"
     ]
    }
   ],
   "source": [
    "## 2.\n",
    "import re\n",
    "\n",
    "def check_password(password):\n",
    "    # Count the number of uppercase and lowercase letters\n",
    "    uppercase_count = sum(1 for char in password if char.isupper())\n",
    "    lowercase_count = sum(1 for char in password if char.islower())\n",
    "    \n",
    "    # Count the number of digits and special characters using regular expressions\n",
    "    digit_count = len(re.findall(r'\\d', password))\n",
    "    special_char_count = len(re.findall(r'[!@#$%^&*(),.?\":{}|<>]', password))\n",
    "    \n",
    "    # Check if all counts meet the requirements\n",
    "    if uppercase_count >= 2 and lowercase_count >= 2 and digit_count >= 1 and special_char_count >= 3:\n",
    "        return \"Valid Password\"\n",
    "    else:\n",
    "        return \"Invalid Password\"\n",
    "\n",
    "# Example usage\n",
    "user_password = input(\"Enter your password: \")\n",
    "result = check_password(user_password)\n",
    "print(result)\n"
   ]
  },
  {
   "cell_type": "code",
   "execution_count": 5,
   "id": "3966e615",
   "metadata": {},
   "outputs": [
    {
     "name": "stdout",
     "output_type": "stream",
     "text": [
      "Enter your password: shyam\n",
      "Invalid Password\n"
     ]
    }
   ],
   "source": [
    "## 3.\n",
    "import re\n",
    "\n",
    "def check_password(password):\n",
    "    # Check password length\n",
    "    if len(password) != 10:\n",
    "        return \"Invalid Password\"\n",
    "    \n",
    "    # Count the number of uppercase and lowercase letters\n",
    "    uppercase_count = sum(1 for char in password if char.isupper())\n",
    "    lowercase_count = sum(1 for char in password if char.islower())\n",
    "    \n",
    "    # Count the number of digits and special characters using regular expressions\n",
    "    digit_count = len(re.findall(r'\\d', password))\n",
    "    special_char_count = len(re.findall(r'[!@#$%^&*(),.?\":{}|<>]', password))\n",
    "    \n",
    "    # Check if all counts meet the requirements\n",
    "    if uppercase_count >= 2 and lowercase_count >= 2 and digit_count >= 1 and special_char_count >= 3:\n",
    "        return \"Valid Password\"\n",
    "    else:\n",
    "        return \"Invalid Password\"\n",
    "\n",
    "# Example usage\n",
    "user_password = input(\"Enter your password: \")\n",
    "result = check_password(user_password)\n",
    "print(result)\n"
   ]
  },
  {
   "cell_type": "markdown",
   "id": "87a79aac",
   "metadata": {},
   "source": [
    "Q2. Solve the below-given questions using at least one of the following:\n",
    "1. Lambda functioJ\n",
    "2. Filter functioJ\n",
    "3. Zap functioJ\n",
    "4. List ComprehensioI"
   ]
  },
  {
   "cell_type": "markdown",
   "id": "aee43c6b",
   "metadata": {},
   "source": [
    "## By using lambda function\n"
   ]
  },
  {
   "cell_type": "code",
   "execution_count": 7,
   "id": "8f4ea02c",
   "metadata": {},
   "outputs": [
    {
     "name": "stdout",
     "output_type": "stream",
     "text": [
      "Enter a string: yonge\n",
      "The string does not start with 'Y'.\n"
     ]
    }
   ],
   "source": [
    "### Check if the string starts with a particular letter\n",
    "check_startswith_y = lambda text: text.startswith('Y')\n",
    "\n",
    "input_string = input(\"Enter a string: \")\n",
    "result = check_startswith_y(input_string)\n",
    "\n",
    "if result:\n",
    "    print(\"The string starts with 'Y'.\")\n",
    "else:\n",
    "    print(\"The string does not start with 'Y'.\")\n"
   ]
  },
  {
   "cell_type": "code",
   "execution_count": 10,
   "id": "0ff2a727",
   "metadata": {},
   "outputs": [
    {
     "name": "stdout",
     "output_type": "stream",
     "text": [
      "Enter a string: gupta\n",
      "The string is not numeric.\n"
     ]
    }
   ],
   "source": [
    "#Check if the string is numeric.\n",
    "check_numeric = lambda text: text.isnumeric()\n",
    "\n",
    "input_string = input(\"Enter a string: \")\n",
    "result = check_numeric(input_string)\n",
    "\n",
    "if result:\n",
    "    print(\"The string is numeric.\")\n",
    "else:\n",
    "    print(\"The string is not numeric.\")\n"
   ]
  },
  {
   "cell_type": "code",
   "execution_count": 11,
   "id": "01b2712e",
   "metadata": {},
   "outputs": [
    {
     "name": "stdout",
     "output_type": "stream",
     "text": [
      "[1, 4, 9, 16, 25, 36, 49, 64, 81, 100]\n"
     ]
    }
   ],
   "source": [
    "##  Find the squares of numbers from 1 to 10\n",
    "numbers = list(range(1, 11))\n",
    "squares = map(lambda x: x ** 2, numbers)\n",
    "\n",
    "print(list(squares))\n"
   ]
  },
  {
   "cell_type": "code",
   "execution_count": 16,
   "id": "170c1b51",
   "metadata": {},
   "outputs": [
    {
     "name": "stdout",
     "output_type": "stream",
     "text": [
      "[1, 8, 27, 64, 125, 216, 343, 512, 729, 1000]\n"
     ]
    }
   ],
   "source": [
    "## Find the cube root of numbers from 1 to 10 \n",
    "numbers = list(range(1, 11))\n",
    "cube = map(lambda x: x **3, numbers)\n",
    "\n",
    "print(list(cube))"
   ]
  },
  {
   "cell_type": "code",
   "execution_count": 19,
   "id": "39d7a396",
   "metadata": {},
   "outputs": [
    {
     "name": "stdout",
     "output_type": "stream",
     "text": [
      "Enter a number: 87\n",
      "The number is not even.\n"
     ]
    }
   ],
   "source": [
    "## Check if a given number is even\n",
    "check_even = lambda num: num % 2 == 0\n",
    "\n",
    "input_number = int(input(\"Enter a number: \"))\n",
    "result = check_even(input_number)\n",
    "\n",
    "if result:\n",
    "    print(\"The number is even.\")\n",
    "else:\n",
    "    print(\"The number is not even.\")\n",
    "\n"
   ]
  },
  {
   "cell_type": "code",
   "execution_count": 22,
   "id": "226eec6e",
   "metadata": {},
   "outputs": [
    {
     "name": "stdout",
     "output_type": "stream",
     "text": [
      "[1, 3, 5, 7, 9]\n"
     ]
    }
   ],
   "source": [
    "# Filter odd numbers from the given list.\n",
    "#[1,2,3,4,5,6,7,8,9,10]\n",
    "numbers = [1, 2, 3, 4, 5, 6, 7, 8, 9, 10]\n",
    "filtered_odd = filter(lambda x: x % 2 != 0, numbers)\n",
    "\n",
    "print(list(filtered_odd))\n"
   ]
  },
  {
   "cell_type": "code",
   "execution_count": 28,
   "id": "c0362687",
   "metadata": {},
   "outputs": [
    {
     "name": "stdout",
     "output_type": "stream",
     "text": [
      "Positive numbers: [1, 2, 3, 4, 5, 6]\n",
      "Negative numbers: [-1, -2, -3, -4, -5]\n"
     ]
    }
   ],
   "source": [
    "# Sort a list of integers into positive and negative integers lists.\n",
    "#[1,2,3,4,5,6,-1,-2,-3,-4,-5,0]\n",
    "numbers = [1, 2, 3, 4, 5, 6, -1, -2, -3, -4, -5, 0]\n",
    "positive_numbers = [x for x in numbers if x > 0]\n",
    "negative_numbers = [x for x in numbers if x < 0]\n",
    "\n",
    "print(\"Positive numbers:\", positive_numbers)\n",
    "print(\"Negative numbers:\", negative_numbers)\n"
   ]
  },
  {
   "cell_type": "code",
   "execution_count": null,
   "id": "16328d4f",
   "metadata": {},
   "outputs": [],
   "source": []
  }
 ],
 "metadata": {
  "kernelspec": {
   "display_name": "Python 3 (ipykernel)",
   "language": "python",
   "name": "python3"
  },
  "language_info": {
   "codemirror_mode": {
    "name": "ipython",
    "version": 3
   },
   "file_extension": ".py",
   "mimetype": "text/x-python",
   "name": "python",
   "nbconvert_exporter": "python",
   "pygments_lexer": "ipython3",
   "version": "3.9.12"
  }
 },
 "nbformat": 4,
 "nbformat_minor": 5
}
